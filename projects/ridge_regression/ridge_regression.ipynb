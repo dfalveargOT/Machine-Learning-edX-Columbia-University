{
 "cells": [
  {
   "cell_type": "markdown",
   "metadata": {},
   "source": [
    "# Ridge regression"
   ]
  },
  {
   "cell_type": "markdown",
   "metadata": {},
   "source": [
    "Suppose we are given a dataset $X=(x_1,...,x_n)^T$ and a set of outputs $y=(y_1,...,y_n)^T$, where $x_i \\in \\mathbb{R}^d$ and $y_i \\in \\mathbb{R}$. We wish to model the outputs as a linear function of the inputs, i.e.\n",
    "\n",
    "$$ y \\sim Xw, $$\n",
    "\n",
    "where $w \\in \\mathbb{R}^d$. The ridge regression model is a linear regression with $\\ell^2$ regularization. For a given $\\lambda$ we wish to find $w$ that minimizes the loss function\n",
    "\n",
    "$$ \\| y - Xw\\|^2 + \\lambda\\|w\\|^2, $$\n",
    "\n",
    "where $\\|\\cdot\\|$ is the $\\ell^2$ norm. Taking derivative in $w$ one can find that $w_{RR}$ that minimizes the above loss function is given by\n",
    "\n",
    "$$ (\\lambda I + X^T X)^{-1}X^T y,$$\n",
    "\n",
    "where $I$ is the identity matrix."
   ]
  },
  {
   "cell_type": "markdown",
   "metadata": {},
   "source": [
    "## Application: Wine Quality dataset"
   ]
  },
  {
   "cell_type": "markdown",
   "metadata": {},
   "source": [
    "In the following we implement and apply ridge regression to Wine Quality dataset that can be found at: http://archive.ics.uci.edu/ml/datasets/Wine+Quality."
   ]
  },
  {
   "cell_type": "markdown",
   "metadata": {},
   "source": [
    "Import and load data:"
   ]
  },
  {
   "cell_type": "code",
   "execution_count": 1,
   "metadata": {},
   "outputs": [
    {
     "name": "stdout",
     "output_type": "stream",
     "text": [
      "[[  7.     0.27   0.36 ...,   0.45   8.8    6.  ]\n",
      " [  6.3    0.3    0.34 ...,   0.49   9.5    6.  ]\n",
      " [  8.1    0.28   0.4  ...,   0.44  10.1    6.  ]\n",
      " ..., \n",
      " [  6.5    0.24   0.19 ...,   0.46   9.4    6.  ]\n",
      " [  5.5    0.29   0.3  ...,   0.38  12.8    7.  ]\n",
      " [  6.     0.21   0.38 ...,   0.32  11.8    6.  ]]\n",
      "(4898, 12)\n"
     ]
    }
   ],
   "source": [
    "import numpy as np\n",
    "\n",
    "data = np.genfromtxt('wine_white.csv', delimiter=\";\")\n",
    "print(data[1:])\n",
    "print(data[1:].shape)"
   ]
  },
  {
   "cell_type": "markdown",
   "metadata": {},
   "source": [
    "Different wines correspond to the rows of the matrix. The first eleven columns are various parameters of the wines (see the link above for details) and the last row corresponds to the quality. Note that we model the qualities as continuous values."
   ]
  },
  {
   "cell_type": "markdown",
   "metadata": {},
   "source": [
    "We split the data into train, validation and test tests, and do preprocessing:"
   ]
  },
  {
   "cell_type": "code",
   "execution_count": 2,
   "metadata": {},
   "outputs": [
    {
     "name": "stdout",
     "output_type": "stream",
     "text": [
      "[  1.74952269e-14  -6.00710826e-15   1.55800141e-14  -2.06357803e-15\n",
      "  -1.34861991e-14   2.04206073e-16   9.01644082e-17   2.07880087e-12\n",
      "  -2.67910455e-14  -2.82462394e-14  -4.77319549e-14]\n",
      "[ 1.  1.  1.  1.  1.  1.  1.  1.  1.  1.  1.]\n"
     ]
    }
   ],
   "source": [
    "X_train = data[1:3200,0:11]\n",
    "y_train = data[1:3200, 11]\n",
    "X_val = data[3200:4000,0:11]\n",
    "y_val = data[3200:4000, 11]\n",
    "X_test = data[4000:, 0:11]\n",
    "y_test = data[4000:, 11]\n",
    "\n",
    "##Preprocessing for ridge regression\n",
    "dev = np.std(X_train, axis=0)\n",
    "mean = np.mean(X_train, axis=0)\n",
    "y_mean = np.mean(y_train)\n",
    "\n",
    "def preprocess(x):\n",
    "    x_new = (x - mean)/dev\n",
    "    return x_new\n",
    "\n",
    "X_train = preprocess(X_train)\n",
    "y_train = y_train - y_mean\n",
    "X_val = preprocess(X_val)\n",
    "X_test = preprocess(X_test)\n",
    "\n",
    "# sanity check\n",
    "print(np.mean(X_train, axis=0)) #should be close to zero\n",
    "print(np.std(X_train, axis=0)) #should be close to one"
   ]
  },
  {
   "cell_type": "markdown",
   "metadata": {},
   "source": [
    "The solution is given by (where lambda_input is the hyperparameter):"
   ]
  },
  {
   "cell_type": "code",
   "execution_count": 3,
   "metadata": {},
   "outputs": [],
   "source": [
    "def rregression(x, y, lambda_input):\n",
    "    aux = np.dot(x.T,x)\n",
    "    n = aux.shape[0]\n",
    "    return np.dot(np.dot(np.linalg.inv(lambda_input*np.identity(n) + aux), x.T), y)"
   ]
  },
  {
   "cell_type": "markdown",
   "metadata": {},
   "source": [
    "We select the best lambda via cross-validation:"
   ]
  },
  {
   "cell_type": "code",
   "execution_count": 4,
   "metadata": {},
   "outputs": [],
   "source": [
    "# select best lambda\n",
    "best_lam = 0\n",
    "best_val_error = 1e10\n",
    "iterations = 1000\n",
    "for i in range(iterations):\n",
    "    #print('Iteration ',i+1, ' / ', iterations)\n",
    "    lam = 10**np.random.uniform(-5,5)\n",
    "    wRR = rregression(X_train, y_train, lam)\n",
    "    y_ans = np.dot(X_val, wRR) + y_mean\n",
    "    val_error = np.mean(np.absolute(y_ans - y_val))\n",
    "    #print('lambda: ', lam, ' validation accuracy: ', val_error)\n",
    "    if val_error < best_val_error:\n",
    "        best_lam = lam\n",
    "        best_val_error = val_error"
   ]
  },
  {
   "cell_type": "markdown",
   "metadata": {},
   "source": [
    "Finally, print best_lambda, the validation error and the test error:"
   ]
  },
  {
   "cell_type": "code",
   "execution_count": 5,
   "metadata": {},
   "outputs": [
    {
     "name": "stdout",
     "output_type": "stream",
     "text": [
      "Best lambda:  175.65646291824032  validation accuracy:  0.562325610163\n",
      "Test accuracy:  0.558423534613\n"
     ]
    }
   ],
   "source": [
    "print('Best lambda: ', best_lam, ' validation accuracy: ', best_val_error)\n",
    "wRR = rregression(X_train, y_train, best_lam)\n",
    "y_ans = np.dot(X_test, wRR) + y_mean\n",
    "test_error = np.mean(np.absolute(y_ans - y_test))\n",
    "print('Test accuracy: ', test_error)"
   ]
  }
 ],
 "metadata": {
  "kernelspec": {
   "display_name": "Python 3",
   "language": "python",
   "name": "python3"
  },
  "language_info": {
   "codemirror_mode": {
    "name": "ipython",
    "version": 3
   },
   "file_extension": ".py",
   "mimetype": "text/x-python",
   "name": "python",
   "nbconvert_exporter": "python",
   "pygments_lexer": "ipython3",
   "version": "3.6.2"
  }
 },
 "nbformat": 4,
 "nbformat_minor": 2
}
